{
 "cells": [
  {
   "cell_type": "code",
   "execution_count": 3,
   "outputs": [],
   "source": [
    "import pandas as pd\n",
    "from tqdm import tqdm\n",
    "from sklearn.feature_extraction.text import TfidfVectorizer\n",
    "from sklearn.model_selection import train_test_split\n",
    "from xgboost import XGBClassifier\n",
    "from imblearn.under_sampling import RandomUnderSampler\n",
    "from sentence_transformers import SentenceTransformer"
   ],
   "metadata": {
    "collapsed": false,
    "pycharm": {
     "name": "#%%\n"
    }
   }
  },
  {
   "cell_type": "markdown",
   "source": [
    "## 2. Positive classifier"
   ],
   "metadata": {
    "collapsed": false,
    "pycharm": {
     "name": "#%% md\n"
    }
   }
  },
  {
   "cell_type": "code",
   "execution_count": 6,
   "outputs": [],
   "source": [
    "full_df = pd.read_csv('../data_for_filtering/job_with_compliance_keywords.csv')\n",
    "positive_df = full_df[['label', 'clean_job_description']][full_df['label'] == 1]\n",
    "negative_df = pd.read_csv('../negative_identifier_output_6232022.csv')\n",
    "job_df = pd.concat([positive_df, negative_df]).reset_index()\n",
    "\n",
    "label_df = full_df[(~full_df['clean_job_description'].isna()) & (full_df['label'] == 0)].reset_index()"
   ],
   "metadata": {
    "collapsed": false,
    "pycharm": {
     "name": "#%%\n"
    }
   }
  },
  {
   "cell_type": "code",
   "execution_count": null,
   "outputs": [
    {
     "name": "stdout",
     "output_type": "stream",
     "text": [
      "n features: 100\n",
      "start encoding X...\n"
     ]
    }
   ],
   "source": [
    "tqdm.pandas()\n",
    "\n",
    "n_features = 100\n",
    "print('n features:', n_features)\n",
    "tf_idf = TfidfVectorizer(max_features=n_features)\n",
    "bert_model = SentenceTransformer('all-MiniLM-L6-v2')  # paraphrase-MiniLM-L3-v2; all-mpnet-base-v2; all-MiniLM-L12-v2; https://sbert.net/docs/pretrained_models.html\n",
    "print('start encoding X...')\n",
    "X = bert_model.encode(job_df['clean_job_description'])\n",
    "y = job_df['label']\n",
    "X_1 = tf_idf.fit_transform(job_df['clean_job_description'])\n",
    "\n",
    "\n",
    "n_repeat = 10\n",
    "bert_models = []\n",
    "print('training models...')\n",
    "for i in tqdm(range(n_repeat), total=n_repeat):\n",
    "    model = XGBClassifier()\n",
    "    undersampler = RandomUnderSampler()\n",
    "    X_sub, y_sub = undersampler.fit_resample(X, y)\n",
    "    X_train, X_test, y_train, y_test = train_test_split(X_sub, y_sub, test_size=0.5)\n",
    "    model.fit(X_train, y_train)\n",
    "    bert_models.append(model)\n",
    "tfidf_models = []\n",
    "for i in tqdm(range(n_repeat), total=n_repeat):\n",
    "    model = XGBClassifier()\n",
    "    undersampler = RandomUnderSampler()\n",
    "    X_sub, y_sub = undersampler.fit_resample(X_1, y)\n",
    "    X_train, X_test, y_train, y_test = train_test_split(X_sub, y_sub, test_size=0.5)\n",
    "    model.fit(X_train, y_train)\n",
    "    tfidf_models.append(model)\n",
    "\n",
    "print('start encoding X...')\n",
    "new_X = bert_model.encode(label_df['clean_job_description'])\n",
    "new_X_1 = tf_idf.fit_transform(label_df['clean_job_description'])\n",
    "\n",
    "label_df['y_predict'] = 0\n",
    "for i in range(n_repeat):\n",
    "    label_df['y_predict'] += bert_models[i].predict(new_X)\n",
    "for i in range(n_repeat):\n",
    "    label_df['y_predict'] += tfidf_models[i].predict(new_X_1)\n",
    "label_df['y_predict'] /= (n_repeat*2)\n",
    "label_df['positive_identifier_v2_label'] = label_df['y_predict'] >= 0.3\n",
    "label_df.to_csv('data_for_filtering/positive_identifier_v2_TEST.csv', index=False)\n",
    "# label_df.to_csv('data_for_filtering/positive_identifier_v2_07252022.csv', index=False)\n",
    "print('label_df shape:', label_df.shape, 'prediction results:', label_df['positive_identifier_v2_label'].value_counts())"
   ],
   "metadata": {
    "collapsed": false,
    "pycharm": {
     "name": "#%%\n",
     "is_executing": true
    }
   }
  }
 ],
 "metadata": {
  "kernelspec": {
   "name": "conda-env-compsoc-py",
   "language": "python",
   "display_name": "Python [conda env:compsoc] *"
  },
  "language_info": {
   "codemirror_mode": {
    "name": "ipython",
    "version": 2
   },
   "file_extension": ".py",
   "mimetype": "text/x-python",
   "name": "python",
   "nbconvert_exporter": "python",
   "pygments_lexer": "ipython2",
   "version": "2.7.6"
  }
 },
 "nbformat": 4,
 "nbformat_minor": 0
}