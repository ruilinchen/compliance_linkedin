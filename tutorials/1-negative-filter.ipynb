{
 "cells": [
  {
   "cell_type": "code",
   "execution_count": null,
   "outputs": [],
   "source": [
    "import pandas as pd\n",
    "from tqdm import tqdm\n",
    "from sklearn.feature_extraction.text import TfidfVectorizer\n",
    "from sklearn.model_selection import train_test_split\n",
    "from xgboost import XGBClassifier\n",
    "from imblearn.under_sampling import RandomUnderSampler\n",
    "from sentence_transformers import SentenceTransformer"
   ],
   "metadata": {
    "collapsed": false,
    "pycharm": {
     "name": "#%%\n"
    }
   }
  },
  {
   "cell_type": "markdown",
   "source": [
    "## 1. Negative classifier"
   ],
   "metadata": {
    "collapsed": false,
    "pycharm": {
     "name": "#%% md\n"
    }
   }
  },
  {
   "cell_type": "code",
   "execution_count": null,
   "outputs": [],
   "source": [
    "full_df = pd.read_csv('data_for_filtering/job_with_compliance_keywords.csv')\n",
    "negative_df = full_df[full_df['label'] == 0].reset_index()"
   ],
   "metadata": {
    "collapsed": false,
    "pycharm": {
     "name": "#%%\n"
    }
   }
  },
  {
   "cell_type": "code",
   "execution_count": null,
   "outputs": [],
   "source": [
    "bert_model = SentenceTransformer('all-MiniLM-L6-v2')\n",
    "\n",
    "n_repeat = 10\n",
    "models = []\n",
    "for i in tqdm(range(n_repeat), total=n_repeat):\n",
    "        model = XGBClassifier()\n",
    "        model.load_model(f\"xgboost_models/model{i}.json\")\n",
    "        models.append(model)"
   ],
   "metadata": {
    "collapsed": false,
    "pycharm": {
     "name": "#%%\n"
    }
   }
  },
  {
   "cell_type": "code",
   "execution_count": null,
   "outputs": [],
   "source": [
    "negative_df['y_predict'] = 0\n",
    "new_X = bert_model.encode(negative_df['clean_job_description'])\n",
    "\n",
    "print('start predicting negative_df...')\n",
    "for i in range(n_repeat):\n",
    "    negative_df['y_predict']  += models[i].predict(new_X)\n",
    "negative_df['y_predict'] /= n_repeat\n",
    "negative_df['y_predict_label'] = negative_df['y_predict'] >= 0.5\n",
    "refined_negative_df = negative_df[negative_df['y_predict_label'] == 0]\n",
    "print('refined negatives:', refined_negative_df.shape, 'total negatives:', negative_df.shape)\n",
    "# negative_df.to_csv('negative_identifier_output_6232022.csv', index=False)\n",
    "refined_negative_df.to_csv('negative_identifier_output_TEST.csv', index=False)"
   ],
   "metadata": {
    "collapsed": false,
    "pycharm": {
     "name": "#%%\n"
    }
   }
  },
  {
   "cell_type": "code",
   "execution_count": null,
   "outputs": [],
   "source": [],
   "metadata": {
    "collapsed": false,
    "pycharm": {
     "name": "#%%\n"
    }
   }
  }
 ],
 "metadata": {
  "kernelspec": {
   "name": "conda-env-compsoc-py",
   "language": "python",
   "display_name": "Python [conda env:compsoc] *"
  },
  "language_info": {
   "codemirror_mode": {
    "name": "ipython",
    "version": 2
   },
   "file_extension": ".py",
   "mimetype": "text/x-python",
   "name": "python",
   "nbconvert_exporter": "python",
   "pygments_lexer": "ipython2",
   "version": "2.7.6"
  }
 },
 "nbformat": 4,
 "nbformat_minor": 0
}