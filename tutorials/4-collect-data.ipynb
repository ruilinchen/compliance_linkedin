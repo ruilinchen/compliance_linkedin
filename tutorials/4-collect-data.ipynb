{
 "cells": [
  {
   "cell_type": "markdown",
   "source": [
    "## 4. Collect compliance jobs"
   ],
   "metadata": {
    "collapsed": false,
    "pycharm": {
     "name": "#%% md\n"
    }
   }
  },
  {
   "cell_type": "markdown",
   "source": [
    "### The final dataset has three components:\n",
    "* listings with compliance keywords in title\n",
    "* listings without compliance keywords in title but labeled positive by the BERT classifier\n",
    "* listings with diversity keywords in title"
   ],
   "metadata": {
    "collapsed": false,
    "pycharm": {
     "name": "#%% md\n"
    }
   }
  },
  {
   "cell_type": "code",
   "execution_count": null,
   "outputs": [],
   "source": [
    "import pandas as pd\n",
    "\n",
    "df1 = pd.read_csv('data_for_filtering/job_with_compliance_keywords.csv')\n",
    "compliance_keyword_df = df1[df1['label'] == 1]\n",
    "\n",
    "df2 = pd.read_csv('data_for_filtering/negative_identifier_v3_07262022.csv')\n",
    "compliance_model_df = df2[df2['negative_identifier_label'] == 1]\n",
    "\n",
    "df3 = pd.read_csv('job_info_data/diversity_job_info_7212022.csv')\n",
    "\n",
    "selected_columns = ['job_url', 'lnks_job_title', 'lnks_company', 'lnks_company_url', 'lnks_company_location', 'lnks_job_description']\n",
    "final_df = pd.concat([compliance_keyword_df[selected_columns], df3[selected_columns], compliance_model_df[selected_columns]])\n",
    "final_df.to_csv('compiled_dataset/compliance_jobs_june&july_2022.csv', index=False)\n",
    "\n",
    "sampled_df = final_df.sample(n=300)\n",
    "sampled_df.to_csv('compiled_dataset/compliance_jobs_june&july_2022_sampled_v1.csv', index=False)"
   ],
   "metadata": {
    "collapsed": false,
    "pycharm": {
     "name": "#%%\n"
    }
   }
  }
 ],
 "metadata": {
  "kernelspec": {
   "display_name": "Python 3",
   "language": "python",
   "name": "python3"
  },
  "language_info": {
   "codemirror_mode": {
    "name": "ipython",
    "version": 2
   },
   "file_extension": ".py",
   "mimetype": "text/x-python",
   "name": "python",
   "nbconvert_exporter": "python",
   "pygments_lexer": "ipython2",
   "version": "2.7.6"
  }
 },
 "nbformat": 4,
 "nbformat_minor": 0
}