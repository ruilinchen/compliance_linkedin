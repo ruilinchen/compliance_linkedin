{
 "cells": [
  {
   "cell_type": "code",
   "execution_count": null,
   "outputs": [],
   "source": [
    "import pandas as pd\n",
    "from sentence_transformers import SentenceTransformer\n",
    "from tqdm import tqdm\n",
    "from imblearn.under_sampling import RandomUnderSampler\n",
    "from xgboost import XGBClassifier"
   ],
   "metadata": {
    "collapsed": false,
    "pycharm": {
     "name": "#%%\n"
    }
   }
  },
  {
   "cell_type": "markdown",
   "source": [
    "## 3. Negative classifier"
   ],
   "metadata": {
    "collapsed": false,
    "pycharm": {
     "name": "#%% md\n"
    }
   }
  },
  {
   "cell_type": "code",
   "execution_count": null,
   "outputs": [],
   "source": [
    "bert_model = SentenceTransformer('bert_negative_model')\n",
    "\n",
    "label_df = pd.read_csv('labelled_data/all_labelled_jobs.csv')\n",
    "label_df = label_df[~label_df['clean_job_description'].isna()].reset_index()\n",
    "code2label = {\n",
    "    'YES': 1,\n",
    "    'YES?': 1,\n",
    "    'VENDOR?': 1,\n",
    "    'YES/VENDOR': 1,\n",
    "    'MAYBE': 0,\n",
    "    'NO?': 0,\n",
    "    'MAYBE': 0,\n",
    "    'VENDOR': 1,\n",
    "    'NO': 0\n",
    "}\n",
    "label_df['label'] = label_df['COMPLIANCE?'].map(code2label)\n",
    "label_df['label'] = label_df['label'].fillna(0)"
   ],
   "metadata": {
    "collapsed": false,
    "pycharm": {
     "name": "#%%\n"
    }
   }
  },
  {
   "cell_type": "markdown",
   "source": [
    "### Step 1. train XGBoost"
   ],
   "metadata": {
    "collapsed": false,
    "pycharm": {
     "name": "#%% md\n"
    }
   }
  },
  {
   "cell_type": "code",
   "execution_count": null,
   "outputs": [],
   "source": [
    "X = bert_model.encode(label_df['clean_job_description'])\n",
    "y = label_df['label']\n",
    "\n",
    "n_repeat = 10\n",
    "xgboost_models = []\n",
    "print('training models...')\n",
    "for i in tqdm(range(n_repeat), total=n_repeat):\n",
    "    model = XGBClassifier()\n",
    "    undersampler = RandomUnderSampler()\n",
    "    X_sub, y_sub = undersampler.fit_resample(X, y)\n",
    "    model.fit(X_sub, y_sub)\n",
    "    xgboost_models.append(model)"
   ],
   "metadata": {
    "collapsed": false,
    "pycharm": {
     "name": "#%%\n"
    }
   }
  },
  {
   "cell_type": "markdown",
   "source": [
    "### Step 2. Apply XGBoost"
   ],
   "metadata": {
    "collapsed": false,
    "pycharm": {
     "name": "#%% md\n"
    }
   }
  },
  {
   "cell_type": "code",
   "execution_count": null,
   "outputs": [],
   "source": [
    "THRESHOLD = 0.8\n",
    "\n",
    "print('use models...')\n",
    "negative_df = pd.read_csv('data_for_filtering/positive_identifier_v2_07252022.csv')\n",
    "negative_df = negative_df[(~negative_df['clean_job_description'].isna()) & (negative_df['positive_identifier_v2_label'] == 1)].reset_index()\n",
    "new_X = bert_model.encode(negative_df['clean_job_description'])\n",
    "negative_df['negative_predict'] = 0\n",
    "for i in range(n_repeat):\n",
    "    negative_df['negative_predict'] += xgboost_models[i].predict(new_X)\n",
    "\n",
    "negative_df['negative_predict'] /= (n_repeat)\n",
    "negative_df['negative_identifier_label'] = negative_df['negative_predict'] >= THRESHOLD\n",
    "print('negative_df.shape:', negative_df.shape)\n",
    "print('results:', negative_df['negative_identifier_label'].value_counts())\n",
    "negative_df.to_csv('data_for_filtering/negative_identifier_v3_TEST.csv', index=False)\n",
    "# negative_df.to_csv('data_for_filtering/negative_identifier_v3_08032022.csv', index=False)"
   ],
   "metadata": {
    "collapsed": false,
    "pycharm": {
     "name": "#%%\n"
    }
   }
  }
 ],
 "metadata": {
  "kernelspec": {
   "display_name": "Python 3",
   "language": "python",
   "name": "python3"
  },
  "language_info": {
   "codemirror_mode": {
    "name": "ipython",
    "version": 2
   },
   "file_extension": ".py",
   "mimetype": "text/x-python",
   "name": "python",
   "nbconvert_exporter": "python",
   "pygments_lexer": "ipython2",
   "version": "2.7.6"
  }
 },
 "nbformat": 4,
 "nbformat_minor": 0
}