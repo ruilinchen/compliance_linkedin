{
 "cells": [
  {
   "cell_type": "code",
   "execution_count": null,
   "metadata": {
    "collapsed": true,
    "pycharm": {
     "name": "#%%\n"
    }
   },
   "outputs": [],
   "source": [
    "import os, re\n",
    "import nltk\n",
    "# nltk.download('stopwords')\n",
    "# nltk.download('omw-1.4')\n",
    "from nltk.corpus import stopwords\n",
    "from nltk.stem import WordNetLemmatizer\n",
    "import pandas as pd\n",
    "from tqdm import tqdm\n",
    "\n",
    "lem = WordNetLemmatizer()\n",
    "\n",
    "def text_preprocess(a_string):\n",
    "    \"\"\"\n",
    "    clean the text: remove punctuations; lemmatization\n",
    "    \"\"\"\n",
    "    a_string = a_string[:int(len(a_string) * 0.5)]\n",
    "    main_words = re.sub('[^a-zA-Z]', ' ', a_string)  # Retain only alphabets\n",
    "    main_words = (main_words.lower()).split()\n",
    "    main_words = [w for w in main_words if not w in set(stopwords.words('english'))]  # Remove stopwords\n",
    "    main_words = [lem.lemmatize(w) for w in main_words if len(w) > 1]  # Group different forms of the same word\n",
    "    main_words = ' '.join(main_words)\n",
    "    return main_words\n"
   ]
  },
  {
   "cell_type": "markdown",
   "source": [
    "## 0. Preprocessing\n",
    "* clean the job_description column\n",
    "* combine individual files into one"
   ],
   "metadata": {
    "collapsed": false,
    "pycharm": {
     "name": "#%% md\n"
    }
   }
  },
  {
   "cell_type": "code",
   "execution_count": null,
   "outputs": [],
   "source": [
    "RAW_TEXT_COLNAME = 'lnks_job_description'\n",
    "CLEANED_TEXT_COLNAME = 'clean_job_description'"
   ],
   "metadata": {
    "collapsed": false,
    "pycharm": {
     "name": "#%%\n"
    }
   }
  },
  {
   "cell_type": "code",
   "execution_count": null,
   "outputs": [],
   "source": [
    "labeled_filename = 'labelled_data/all_labelled_jobs.csv' # outout filename\n",
    "labeled_files = [os.path.join('labelled_data', item) for item in os.listdir('labelled_data') if '.csv' in item] # individual files to be processed\n",
    "\n",
    "filtered_df = None\n",
    "for file in tqdm(labeled_files, total=len(labeled_files)):\n",
    "    job_df = pd.read_csv(file)  # required columns: lnks_job_title, lnks_job_description\n",
    "    if filtered_df is None:\n",
    "        filtered_df = job_df\n",
    "    else:\n",
    "        filtered_df = pd.concat([filtered_df, job_df])\n",
    "\n",
    "tqdm.pandas()\n",
    "filtered_df[CLEANED_TEXT_COLNAME] = filtered_df[RAW_TEXT_COLNAME].progress_apply(text_preprocess)\n",
    "filtered_df.to_csv(labeled_filename, index=False)"
   ],
   "metadata": {
    "collapsed": false,
    "pycharm": {
     "name": "#%%\n"
    }
   }
  },
  {
   "cell_type": "markdown",
   "source": [
    "### Need to run this for both the labeled data and the raw unlabeled data"
   ],
   "metadata": {
    "collapsed": false,
    "pycharm": {
     "name": "#%% md\n"
    }
   }
  },
  {
   "cell_type": "code",
   "execution_count": null,
   "outputs": [],
   "source": [],
   "metadata": {
    "collapsed": false,
    "pycharm": {
     "name": "#%%\n"
    }
   }
  }
 ],
 "metadata": {
  "kernelspec": {
   "display_name": "Python 3",
   "language": "python",
   "name": "python3"
  },
  "language_info": {
   "codemirror_mode": {
    "name": "ipython",
    "version": 2
   },
   "file_extension": ".py",
   "mimetype": "text/x-python",
   "name": "python",
   "nbconvert_exporter": "python",
   "pygments_lexer": "ipython2",
   "version": "2.7.6"
  }
 },
 "nbformat": 4,
 "nbformat_minor": 0
}